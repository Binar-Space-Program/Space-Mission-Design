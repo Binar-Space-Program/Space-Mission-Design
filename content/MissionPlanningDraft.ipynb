{
 "cells": [
  {
   "cell_type": "code",
   "execution_count": 2,
   "id": "f20a9987-7928-456d-9986-0fe40f3f40c9",
   "metadata": {},
   "outputs": [],
   "source": [
    "# Step 1, Import all required modules\n",
    "import numpy as np #import array manipulation and maths library numpy under the alias np\n",
    "import plotly.graph_objects as go #import our plotting library under the alias go\n",
    "import ipywidgets as widgets #import our interactive widgets library under the alias widgets\n",
    "from ipywidgets import interact,FloatSlider #for interactive sliders\n",
    "from scipy.spatial.transform import Rotation as R #import SciPy rotation library under the alias R for Euler angle rotations\n",
    "from astropy import units as u #import the astropy units package so we can use real world units conveniently"
   ]
  },
  {
   "cell_type": "code",
   "execution_count": 26,
   "id": "aa579ee2-6f3f-4f8a-88cd-783f8108869a",
   "metadata": {},
   "outputs": [],
   "source": [
    "# Step 2, Define classes for the main orbital bodies\n",
    "#All radius obtained from Archinal, B.A. et al. \"Report of the IAU working group on cartographic coordinates and rotational elements: 2015\"\n",
    "    #Celestial Mechanics and Dynamical Astronomy 109(2011): 101-135. DOI: https://doi.org/10.1007/s10569-010-9320-4, unless specified\n",
    "#Unless otherwise specified, gravitational and mass parameters were obtained from: *Luzum, Brian et al. “The IAU 2009 System of Astronomical Constants: The Report of the IAU Working Group on Numerical Standards for Fundamental Astronomy.” \n",
    "#Celestial Mechanics and Dynamical Astronomy 110.4 (2011): 293–304.Crossref. Web. `DOI: 10.1007/s10569-011-9352-4`_\n",
    "class Earth:\n",
    "    #Earth class/object, allowing for easier calculations\n",
    "    name = \"Earth\"\n",
    "    r = 6378.1366*u.km #Obtained from Archinal, B.A.et al\n",
    "    k = 3.986004418e14*u.m**3/u.s**2 #Earth gravitational constant\n",
    "\n",
    "    #Color for plotting\n",
    "    color = \"lightskyblue\"\n",
    "    #Atmospheric properties for plotting\n",
    "    has_atmosphere = True\n",
    "    atmosphere_height = 100*u.km\n",
    "    atmosphere_color = \"lightblue\"\n",
    "    atmosphere_opacity = 0.2\n",
    "\n",
    "class Moon:\n",
    "    #Moon class\n",
    "    name = \"The Moon (Luna)\"\n",
    "    r = (1.7374e6*u.m).to(u.km)\n",
    "    k = 4.90279981e12*u.m**3/u.s**2\n",
    "    color = \"lightgrey\"\n",
    "    has_atmosphere = False\n",
    "\n",
    "class Mercury:\n",
    "    #Mercury planet class\n",
    "    name = \"Mercury\"\n",
    "    k = 3.986004418e14*u.m**3/u.s**2 ## Anderson, John D. et al. “The Mass, Gravity Field, and Ephemeris of Mercury.” Icarus 71.3 (1987): 337–349.\n",
    "# Crossref. Web. DOI: 10.1016/0019-1035(87)90033-9\n",
    "    r = (2.4394e6*u.m).to(u.km)\n",
    "\n",
    "class Venus:\n",
    "    #Venus planet class\n",
    "    name = 'Venus'\n",
    "    k = 3.24858592e14*u.m**3/u.s**2 ## Konopliv, A.S., W.B. Banerdt, and W.L. Sjogren. “Venus Gravity: 180th Degree and Order Model.”\n",
    "# Icarus 139.1 (1999): 3–18. Crossref. Web. DOI: 10.1006/icar.1999.6086\n",
    "    r = (6.0518e6*u.m).to(u.km)\n",
    "\n",
    "class Mars:\n",
    "    #Mars planet class\n",
    "    name = \"Mars\"\n",
    "    k = 4.282837440e13*u.m**3/u.s**2 ## Konopliv, Alex S. et al. “A Global Solution for the Mars Static and Seasonal Gravity, Mars Orientation, Phobos and\n",
    "# Deimos Masses, and Mars Ephemeris.” Icarus 182.1 (2006): 23–50.\n",
    "# Crossref. Web. DOI: 10.1016/j.icarus.2005.12.025\n",
    "    r = (3.38950e6*u.m).to(u.km)\n",
    "\n",
    "class Jupiter:\n",
    "    #Jupiter planet class\n",
    "    name = \"Jupiter\"\n",
    "    r = (6.9911e7*u.m).to(u.km)\n",
    "    k = 1.2671276253e17*u.m**3/u.s**2, ## Jacobson, R. A. et al. “A comprehensive orbit reconstruction for the galileo prime mission in the JS200 system.”\n",
    "# The Journal of the Astronautical Sciences 48.4 (2000): 495–516.\n",
    "# Crossref. Web.\n",
    "\n",
    "class Saturn:\n",
    "    #Saturn planet class\n",
    "    name = \"Saturn\"\n",
    "    k = 3.79312077e16*u.m**3/u.s**2\n",
    "    r = (6.0268e7*u.m).to(u.km)\n",
    "class Uranus:\n",
    "    name = \"Uranus\"\n",
    "    k = 5.7939393e15*u.m**3/u.s**2 ## Jacobson, R. A. et al. “The Masses of Uranus and Its Major Satellites from Voyager Tracking Data and Earth-Based\n",
    "# Uranian Satellite Data.” The Astronomical Journal 103 (1992): 2068.\n",
    "# Crossref. Web. DOI: 10.1086/116211\n",
    "    r = (2.5362e7*u.m).to(u.km)\n",
    "    \n",
    "class Neptune:\n",
    "    #Neptune planet class\n",
    "    name = \"Neptune\"\n",
    "    r = (2.4622e7*u.m).to(u.km)\n",
    "    k = (6.836527100580397e15*u.m**3/u.s**2) ## Jacobson, R. A. “THE ORBITS OF THE NEPTUNIAN SATELLITES AND THE ORIENTATION OF THE POLE OF NEPTUNE.”\n",
    "# The Astronomical Journal 137.5 (2009): 4322–4329. Crossref. Web. DOI:\n",
    "# 10.1088/0004-6256/137/5/4322\n",
    "class Pluto:\n",
    "    #Pluto PLANET class\n",
    "    name = \"Pluto\"\n",
    "    k = 8.703e11*u.m**3/u.s**2\n",
    "    r = (1.188e6*u.m).to(u.km)"
   ]
  },
  {
   "cell_type": "code",
   "execution_count": 18,
   "id": "777f028a-71a9-4f71-ae56-4f1fd1fd9d44",
   "metadata": {},
   "outputs": [
    {
     "name": "stdout",
     "output_type": "stream",
     "text": [
      "398600441800000.0 m3 / s2\n",
      "6378.1366 km\n",
      "1737.4 km\n",
      "69911.0 km\n"
     ]
    }
   ],
   "source": [
    "#Test Bracket\n",
    "print(Earth.k)\n",
    "print(Earth.r)\n",
    "print(Moon.r)\n",
    "print(Jupiter.r)"
   ]
  },
  {
   "cell_type": "code",
   "execution_count": 37,
   "id": "ec63376d-fd23-49bf-a270-076f84c412b8",
   "metadata": {},
   "outputs": [],
   "source": [
    "#Testing out select dialogue boxes\n",
    "# First get a widget to get user selection, then identify correct object, then print data of that object?\n",
    "def planetPrint(input=\"None\"):\n",
    "    selectedClass = None\n",
    "    match input:\n",
    "        case \"Earth\":\n",
    "            selectedClass = Earth\n",
    "            print(\"Selected the Earth\")\n",
    "        case \"The Moon\":\n",
    "            selectedClass = Moon\n",
    "            print(\"Selected The moon\")\n",
    "        case _:\n",
    "            print(\"Something went wrong\")\n",
    "    return selectedClass"
   ]
  },
  {
   "cell_type": "code",
   "execution_count": 71,
   "id": "2ed1685c-6270-4d6e-805e-d09d725cf7d5",
   "metadata": {},
   "outputs": [
    {
     "data": {
      "text/plain": [
       "<ipywidgets.widgets.interaction._InteractFactory at 0x1f590a71390>"
      ]
     },
     "metadata": {},
     "output_type": "display_data"
    },
    {
     "data": {
      "application/vnd.jupyter.widget-view+json": {
       "model_id": "f4703d17f3194b04af2044fcb2278484",
       "version_major": 2,
       "version_minor": 0
      },
      "text/plain": [
       "Dropdown(description='Number:', options=('1', '2', '3'), value='1')"
      ]
     },
     "metadata": {},
     "output_type": "display_data"
    },
    {
     "data": {
      "text/plain": [
       "'1'"
      ]
     },
     "metadata": {},
     "output_type": "display_data"
    },
    {
     "data": {
      "application/vnd.jupyter.widget-view+json": {
       "model_id": "f4703d17f3194b04af2044fcb2278484",
       "version_major": 2,
       "version_minor": 0
      },
      "text/plain": [
       "Dropdown(description='Number:', options=('1', '2', '3'), value='1')"
      ]
     },
     "metadata": {},
     "output_type": "display_data"
    }
   ],
   "source": [
    "\n",
    "w = interact(planet= widgets.Dropdown(\n",
    "    options=['1', '2', '3'],\n",
    "    value='2',\n",
    "    description='Number:',\n",
    "    disabled=False,\n",
    "))\n",
    "display(w)\n",
    "\n",
    "interact(w1 = widgets.Dropdown(\n",
    "    options=['1', '2', '3'],\n",
    "    value='2',\n",
    "    description='Number:',\n",
    "    disabled=False,\n",
    "    continuous_update=True\n",
    "))\n",
    "display(w1)\n",
    "display(w1.value)\n",
    "display(w1)\n",
    "def printValue(value):\n",
    "    print(value)\n",
    "w1.observe(printValue)"
   ]
  },
  {
   "cell_type": "markdown",
   "id": "ad7902b7-aa53-4c36-b157-6c7cf7ae3a2c",
   "metadata": {},
   "source": [
    "https://stackoverflow.com/questions/35361038/using-ipython-ipywidget-to-create-a-variable?rq=3\n",
    "https://stackoverflow.com/questions/61176844/update-displayed-value-everytime-ipywidgets-are-updated\n",
    "https://ipywidgets.readthedocs.io/en/latest/examples/Widget%20Events.html\n"
   ]
  },
  {
   "cell_type": "code",
   "execution_count": 77,
   "id": "2ee3edc0-6d00-4c53-b624-af021dcc8811",
   "metadata": {},
   "outputs": [
    {
     "data": {
      "application/vnd.jupyter.widget-view+json": {
       "model_id": "c1d3db598f6b478b83a6d9e28f07179f",
       "version_major": 2,
       "version_minor": 0
      },
      "text/plain": [
       "FloatSlider(value=1.0, description='R*', max=3.0, min=1.0)"
      ]
     },
     "metadata": {},
     "output_type": "display_data"
    },
    {
     "data": {
      "application/vnd.jupyter.widget-view+json": {
       "model_id": "78fb4cae933b4c43b9c1dc8cbaa0bacf",
       "version_major": 2,
       "version_minor": 0
      },
      "text/plain": [
       "Text(value='12000000 civilizations', description='Estimated N:', disabled=True)"
      ]
     },
     "metadata": {},
     "output_type": "display_data"
    }
   ],
   "source": [
    "caption = widgets.Label(value='Play around with the variables to see how N changes!')   \n",
    "\n",
    "r = widgets.FloatSlider(value=1,\n",
    "                         min=1.0,\n",
    "                         max=3.0,\n",
    "                         step=0.1,\n",
    "                         description=\"R*\")\n",
    "\n",
    "fp = widgets.FloatSlider(value=1,\n",
    "                         min=0.35,\n",
    "                         max=1.0,\n",
    "                         step=0.05,\n",
    "                         description=\"fp\")\n",
    "\n",
    "ne = widgets.FloatSlider(value=1,\n",
    "                         min=0.2,\n",
    "                         max=3.0,\n",
    "                         step=0.1,\n",
    "                         description=\"ne\")\n",
    "\n",
    "fl = widgets.FloatSlider(value=1,\n",
    "                         min=1.0,\n",
    "                         max=1.3,\n",
    "                         step=0.05,\n",
    "                         description=\"fl\")\n",
    "\n",
    "fi = widgets.FloatSlider(value=1,\n",
    "                         min=0.5,\n",
    "                         max=1.5,\n",
    "                         step=0.05,\n",
    "                         description=\"fi\")\n",
    "\n",
    "fc = widgets.FloatSlider(value=0.20,\n",
    "                         min=0.10,\n",
    "                         max=0.30,\n",
    "                         step=0.05,\n",
    "                         description=\"fi\",)\n",
    "\n",
    "l = widgets.FloatSlider(value=60000000.0,\n",
    "                         min=5000000.0,\n",
    "                         max=1000000000.0,\n",
    "                         step=5000000,\n",
    "                         description=\"fi\")\n",
    "\n",
    "\n",
    "n = widgets.Text(\n",
    "    value= str(int(r.value * fp.value * ne.value * fl.value * fi.value * fc.value * l.value)) + \" civilizations\" ,\n",
    "    description='Estimated N:',\n",
    "    disabled=True)\n",
    "\n",
    "#left_box = VBox([r, fp, ne,fl])\n",
    "#right_box = VBox([ fi,fc,l,n])\n",
    "#HBox([left_box, right_box])\n",
    "def on_value_change(change):\n",
    "    n.value = str(int(r.value * fp.value * ne.value * fl.value * fi.value * fc.value * l.value)) + \" civilizations\" \n",
    "\n",
    "r.observe(on_value_change)\n",
    "fp.observe(on_value_change)\n",
    "display(r)\n",
    "display(n)"
   ]
  }
 ],
 "metadata": {
  "kernelspec": {
   "display_name": "Python 3 (ipykernel)",
   "language": "python",
   "name": "python3"
  },
  "language_info": {
   "codemirror_mode": {
    "name": "ipython",
    "version": 3
   },
   "file_extension": ".py",
   "mimetype": "text/x-python",
   "name": "python",
   "nbconvert_exporter": "python",
   "pygments_lexer": "ipython3",
   "version": "3.11.4"
  }
 },
 "nbformat": 4,
 "nbformat_minor": 5
}
